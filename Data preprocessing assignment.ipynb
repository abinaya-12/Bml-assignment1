{
 "cells": [
  {
   "cell_type": "code",
   "execution_count": null,
   "id": "7e0d0965",
   "metadata": {},
   "outputs": [],
   "source": [
    "import numpy as np\n",
    "import pandas as pd\n",
    "import matplotlib.pyplot as plt\n",
    "import seaborn as sb\n",
    "from sklearn import preprocessing\n",
    "from sklearn.model_selection import train_test_split\n",
    "\n"
   ]
  },
  {
   "cell_type": "code",
   "execution_count": 17,
   "id": "7927044a",
   "metadata": {},
   "outputs": [
    {
     "name": "stdout",
     "output_type": "stream",
     "text": [
      "         open       close         low        high   volume\n",
      "0  123.430000  125.839996  122.309998  126.250000  2163600\n",
      "1  125.239998  119.980003  119.940002  125.540001  2386400\n",
      "2  116.379997  114.949997  114.930000  119.739998  2489500\n",
      "3  115.480003  116.620003  113.500000  117.440002  2006300\n",
      "4  117.010002  114.970001  114.089996  117.330002  1408600\n",
      "5  115.510002  115.550003  114.500000  116.059998  1098000\n",
      "6  116.459999  112.849998  112.589996  117.070000   949600\n",
      "7  113.510002  114.379997  110.050003  115.029999   785300\n",
      "8  113.330002  112.529999  111.919998  114.879997  1093700\n",
      "9  113.660004  110.379997  109.870003  115.870003  1523500\n"
     ]
    },
    {
     "data": {
      "text/html": [
       "<div>\n",
       "<style scoped>\n",
       "    .dataframe tbody tr th:only-of-type {\n",
       "        vertical-align: middle;\n",
       "    }\n",
       "\n",
       "    .dataframe tbody tr th {\n",
       "        vertical-align: top;\n",
       "    }\n",
       "\n",
       "    .dataframe thead th {\n",
       "        text-align: right;\n",
       "    }\n",
       "</style>\n",
       "<table border=\"1\" class=\"dataframe\">\n",
       "  <thead>\n",
       "    <tr style=\"text-align: right;\">\n",
       "      <th></th>\n",
       "      <th>open</th>\n",
       "      <th>close</th>\n",
       "      <th>low</th>\n",
       "      <th>high</th>\n",
       "      <th>volume</th>\n",
       "    </tr>\n",
       "  </thead>\n",
       "  <tbody>\n",
       "    <tr>\n",
       "      <th>0</th>\n",
       "      <td>123.430000</td>\n",
       "      <td>125.839996</td>\n",
       "      <td>122.309998</td>\n",
       "      <td>126.250000</td>\n",
       "      <td>2163600</td>\n",
       "    </tr>\n",
       "    <tr>\n",
       "      <th>1</th>\n",
       "      <td>125.239998</td>\n",
       "      <td>119.980003</td>\n",
       "      <td>119.940002</td>\n",
       "      <td>125.540001</td>\n",
       "      <td>2386400</td>\n",
       "    </tr>\n",
       "    <tr>\n",
       "      <th>2</th>\n",
       "      <td>116.379997</td>\n",
       "      <td>114.949997</td>\n",
       "      <td>114.930000</td>\n",
       "      <td>119.739998</td>\n",
       "      <td>2489500</td>\n",
       "    </tr>\n",
       "    <tr>\n",
       "      <th>3</th>\n",
       "      <td>115.480003</td>\n",
       "      <td>116.620003</td>\n",
       "      <td>113.500000</td>\n",
       "      <td>117.440002</td>\n",
       "      <td>2006300</td>\n",
       "    </tr>\n",
       "    <tr>\n",
       "      <th>4</th>\n",
       "      <td>117.010002</td>\n",
       "      <td>114.970001</td>\n",
       "      <td>114.089996</td>\n",
       "      <td>117.330002</td>\n",
       "      <td>1408600</td>\n",
       "    </tr>\n",
       "  </tbody>\n",
       "</table>\n",
       "</div>"
      ],
      "text/plain": [
       "         open       close         low        high   volume\n",
       "0  123.430000  125.839996  122.309998  126.250000  2163600\n",
       "1  125.239998  119.980003  119.940002  125.540001  2386400\n",
       "2  116.379997  114.949997  114.930000  119.739998  2489500\n",
       "3  115.480003  116.620003  113.500000  117.440002  2006300\n",
       "4  117.010002  114.970001  114.089996  117.330002  1408600"
      ]
     },
     "execution_count": 17,
     "metadata": {},
     "output_type": "execute_result"
    }
   ],
   "source": [
    "data = pd.read_csv('C://Users//DELL//Downloads//new.csv')\n",
    "data.drop('date',axis=1,inplace=True)\n",
    "data.drop('symbol',axis=1,inplace=True)\n",
    "print(data.head(10))\n",
    "data.head()"
   ]
  },
  {
   "cell_type": "code",
   "execution_count": null,
   "id": "c9171e9f",
   "metadata": {},
   "outputs": [],
   "source": [
    "print(data.info())"
   ]
  },
  {
   "cell_type": "code",
   "execution_count": 21,
   "id": "d140bc80",
   "metadata": {},
   "outputs": [
    {
     "name": "stdout",
     "output_type": "stream",
     "text": [
      "    Unnamed: 0              date symbol        open       close         low  \\\n",
      "0            0  05-01-2016 00:00   WLTW  123.430000  125.839996  122.309998   \n",
      "1            1  06-01-2016 00:00   WLTW  125.239998  119.980003  119.940002   \n",
      "2            2  07-01-2016 00:00   WLTW  116.379997  114.949997  114.930000   \n",
      "3            3  08-01-2016 00:00   WLTW  115.480003  116.620003  113.500000   \n",
      "4            4  11-01-2016 00:00   WLTW  117.010002  114.970001  114.089996   \n",
      "5            5  12-01-2016 00:00   WLTW  115.510002  115.550003  114.500000   \n",
      "6            6  13-01-2016 00:00   WLTW  116.459999  112.849998  112.589996   \n",
      "7            7  14-01-2016 00:00   WLTW  113.510002  114.379997  110.050003   \n",
      "8            8  15-01-2016 00:00   WLTW  113.330002  112.529999  111.919998   \n",
      "9            9  19-01-2016 00:00   WLTW  113.660004  110.379997  109.870003   \n",
      "10          10  20-01-2016 00:00   WLTW  109.059998  109.300003  108.320000   \n",
      "11          11  21-01-2016 00:00   WLTW  109.730003  110.000000  108.320000   \n",
      "12          12  22-01-2016 00:00   WLTW  111.879997  111.949997  110.190002   \n",
      "13          13  25-01-2016 00:00   WLTW  111.320000  110.120003  110.000000   \n",
      "14          14  26-01-2016 00:00   WLTW  110.419998  111.000000  107.300003   \n",
      "15          15  27-01-2016 00:00   WLTW  110.769997  110.709999  109.019997   \n",
      "16          16  28-01-2016 00:00   WLTW  110.900002         NaN  109.900002   \n",
      "17          17  29-01-2016 00:00   WLTW  113.349998  114.470001  111.669998   \n",
      "18          18  01-02-2016 00:00   WLTW  114.000000  114.500000  112.900002   \n",
      "19          19  02-02-2016 00:00   WLTW  113.250000  110.559998  109.750000   \n",
      "\n",
      "          high   volume  \n",
      "0   126.250000  2163600  \n",
      "1   125.540001  2386400  \n",
      "2   119.739998  2489500  \n",
      "3   117.440002  2006300  \n",
      "4          NaN  1408600  \n",
      "5   116.059998  1098000  \n",
      "6   117.070000   949600  \n",
      "7   115.029999   785300  \n",
      "8   114.879997  1093700  \n",
      "9   115.870003  1523500  \n",
      "10         NaN  1653900  \n",
      "11  110.580002   944300  \n",
      "12  112.949997   744900  \n",
      "13  114.629997   703800  \n",
      "14  111.400002   563100  \n",
      "15  112.570000   896100  \n",
      "16  112.970001   680400  \n",
      "17  114.589996   749900  \n",
      "18  114.849998   574200  \n",
      "19         NaN   694800  \n"
     ]
    }
   ],
   "source": [
    "data1 = pd.read_csv('C:/Users/DELL/Downloads/new1.csv')\n",
    "print(data1.head(20))"
   ]
  },
  {
   "cell_type": "code",
   "execution_count": 22,
   "id": "969eba32",
   "metadata": {},
   "outputs": [
    {
     "name": "stdout",
     "output_type": "stream",
     "text": [
      "       Unnamed: 0        open       close         low        high  \\\n",
      "count    50.00000   50.000000   49.000000   50.000000   47.000000   \n",
      "mean     24.50000  113.906800  113.966122  112.023400  115.461915   \n",
      "std      14.57738    3.892047    3.907816    3.857870    3.718608   \n",
      "min       0.00000  105.629997  107.129997  104.110001  109.260002   \n",
      "25%      12.25000  111.207498  111.000000  109.657499  112.685001   \n",
      "50%      24.50000  113.364998  113.320000  111.180000  114.879997   \n",
      "75%      36.75000  116.439999  116.620003  114.822500  117.405002   \n",
      "max      49.00000  125.239998  125.839996  122.309998  126.250000   \n",
      "\n",
      "             volume  \n",
      "count  5.000000e+01  \n",
      "mean   9.988980e+05  \n",
      "std    5.144256e+05  \n",
      "min    4.112000e+05  \n",
      "25%    6.806250e+05  \n",
      "50%    8.962000e+05  \n",
      "75%    1.178725e+06  \n",
      "max    2.489500e+06  \n"
     ]
    }
   ],
   "source": [
    "print(data1.describe())"
   ]
  },
  {
   "cell_type": "code",
   "execution_count": 23,
   "id": "fda18185",
   "metadata": {},
   "outputs": [
    {
     "name": "stdout",
     "output_type": "stream",
     "text": [
      "<class 'pandas.core.frame.DataFrame'>\n",
      "RangeIndex: 50 entries, 0 to 49\n",
      "Data columns (total 8 columns):\n",
      " #   Column      Non-Null Count  Dtype  \n",
      "---  ------      --------------  -----  \n",
      " 0   Unnamed: 0  50 non-null     int64  \n",
      " 1   date        50 non-null     object \n",
      " 2   symbol      50 non-null     object \n",
      " 3   open        50 non-null     float64\n",
      " 4   close       49 non-null     float64\n",
      " 5   low         50 non-null     float64\n",
      " 6   high        47 non-null     float64\n",
      " 7   volume      50 non-null     int64  \n",
      "dtypes: float64(4), int64(2), object(2)\n",
      "memory usage: 3.2+ KB\n",
      "None\n"
     ]
    }
   ],
   "source": [
    "print(data1.info())"
   ]
  },
  {
   "cell_type": "code",
   "execution_count": 24,
   "id": "358b4d6c",
   "metadata": {},
   "outputs": [
    {
     "name": "stdout",
     "output_type": "stream",
     "text": [
      "   Unnamed: 0              date symbol        open       close         low  \\\n",
      "0           0  05-01-2016 00:00   WLTW  123.430000  125.839996  122.309998   \n",
      "1           1  06-01-2016 00:00   WLTW  125.239998  119.980003  119.940002   \n",
      "2           2  07-01-2016 00:00   WLTW  116.379997  114.949997  114.930000   \n",
      "3           3  08-01-2016 00:00   WLTW  115.480003  116.620003  113.500000   \n",
      "5           5  12-01-2016 00:00   WLTW  115.510002  115.550003  114.500000   \n",
      "\n",
      "         high   volume  \n",
      "0  126.250000  2163600  \n",
      "1  125.540001  2386400  \n",
      "2  119.739998  2489500  \n",
      "3  117.440002  2006300  \n",
      "5  116.059998  1098000  \n"
     ]
    }
   ],
   "source": [
    "data1.dropna(inplace=True)\n",
    "data1.fillna(-9999,inplace=True)\n",
    "data1['high'] = data1['high'].fillna(data1['high'].mean())\n",
    "print(data1.head())"
   ]
  },
  {
   "cell_type": "code",
   "execution_count": 25,
   "id": "29efc468",
   "metadata": {},
   "outputs": [
    {
     "name": "stdout",
     "output_type": "stream",
     "text": [
      "    Unnamed: 0              date symbol        open       close         low  \\\n",
      "0            0  05-01-2016 00:00   WLTW  123.430000  125.839996  122.309998   \n",
      "1            1  06-01-2016 00:00   WLTW  125.239998  119.980003  119.940002   \n",
      "2            2  07-01-2016 00:00   WLTW  116.379997  114.949997  114.930000   \n",
      "3            3  08-01-2016 00:00   WLTW  115.480003  116.620003  113.500000   \n",
      "5            5  12-01-2016 00:00   WLTW  115.510002  115.550003  114.500000   \n",
      "6            6  13-01-2016 00:00   WLTW  116.459999  112.849998  112.589996   \n",
      "7            7  14-01-2016 00:00   WLTW  113.510002  114.379997  110.050003   \n",
      "8            8  15-01-2016 00:00   WLTW  113.330002  112.529999  111.919998   \n",
      "9            9  19-01-2016 00:00   WLTW  113.660004  110.379997  109.870003   \n",
      "11          11  21-01-2016 00:00   WLTW  109.730003  110.000000  108.320000   \n",
      "\n",
      "          high   volume  \n",
      "0   126.250000  2163600  \n",
      "1   125.540001  2386400  \n",
      "2   119.739998  2489500  \n",
      "3   117.440002  2006300  \n",
      "5   116.059998  1098000  \n",
      "6   117.070000   949600  \n",
      "7   115.029999   785300  \n",
      "8   114.879997  1093700  \n",
      "9   115.870003  1523500  \n",
      "11  110.580002   944300  \n"
     ]
    }
   ],
   "source": [
    "data1.dropna(inplace=True)\n",
    "data1.fillna(9999,inplace=True)\n",
    "print(data1.head(10))"
   ]
  },
  {
   "cell_type": "code",
   "execution_count": 26,
   "id": "a0617803",
   "metadata": {},
   "outputs": [
    {
     "name": "stdout",
     "output_type": "stream",
     "text": [
      "   Unnamed: 0              date symbol        open       close         low  \\\n",
      "0           0  05-01-2016 00:00   WLTW  123.430000  125.839996  122.309998   \n",
      "1           1  06-01-2016 00:00   WLTW  125.239998  119.980003  119.940002   \n",
      "2           2  07-01-2016 00:00   WLTW  116.379997  114.949997  114.930000   \n",
      "3           3  08-01-2016 00:00   WLTW  115.480003  116.620003  113.500000   \n",
      "5           5  12-01-2016 00:00   WLTW  115.510002  115.550003  114.500000   \n",
      "\n",
      "         high   volume  \n",
      "0  126.250000  2163600  \n",
      "1  125.540001  2386400  \n",
      "2  119.739998  2489500  \n",
      "3  117.440002  2006300  \n",
      "5  116.059998  1098000  \n"
     ]
    }
   ],
   "source": [
    "data1['high'] = data1['high'].fillna(data1['high'].mean())\n",
    "print(data1.head())"
   ]
  },
  {
   "cell_type": "code",
   "execution_count": 28,
   "id": "161bcba6",
   "metadata": {},
   "outputs": [
    {
     "data": {
      "image/png": "[encoded data removed]",
      "text/plain": [
       "<Figure size 432x288 with 6 Axes>"
      ]
     },
     "metadata": {
      "needs_background": "light"
     },
     "output_type": "display_data"
    }
   ],
   "source": [
    "data.hist()\n",
    "plt.show()"
   ]
  },
  {
   "cell_type": "code",
   "execution_count": 29,
   "id": "56520243",
   "metadata": {},
   "outputs": [
    {
     "data": {
      "image/png": "[encoded data removed]",
      "text/plain": [
       "<Figure size 432x288 with 1 Axes>"
      ]
     },
     "metadata": {
      "needs_background": "light"
     },
     "output_type": "display_data"
    }
   ],
   "source": [
    "plt.scatter(data.close,data.open,color=\"blue\")\n",
    "plt.show()"
   ]
  },
  {
   "cell_type": "code",
   "execution_count": 30,
   "id": "9aa93a8a",
   "metadata": {},
   "outputs": [
    {
     "name": "stdout",
     "output_type": "stream",
     "text": [
      "volume   -0.062296\n",
      "close     0.999810\n",
      "low       0.999912\n",
      "high      0.999925\n",
      "open      1.000000\n",
      "Name: open, dtype: float64\n"
     ]
    }
   ],
   "source": [
    "cor =data.corr()\n",
    "print(cor['open'].sort_values(ascending=True))"
   ]
  },
  {
   "cell_type": "code",
   "execution_count": 31,
   "id": "829a8636",
   "metadata": {},
   "outputs": [
    {
     "name": "stdout",
     "output_type": "stream",
     "text": [
      "         open       close         low        high   volume       label\n",
      "0  123.430000  125.839996  122.309998  126.250000  2163600  109.059998\n",
      "1  125.239998  119.980003  119.940002  125.540001  2386400  109.730003\n",
      "2  116.379997  114.949997  114.930000  119.739998  2489500  111.879997\n",
      "3  115.480003  116.620003  113.500000  117.440002  2006300  111.320000\n",
      "4  117.010002  114.970001  114.089996  117.330002  1408600  110.419998\n"
     ]
    }
   ],
   "source": [
    "forecast =10\n",
    "data['label']=data['open'].shift(-forecast)\n",
    "print(data.head())"
   ]
  },
  {
   "cell_type": "code",
   "execution_count": 32,
   "id": "5e40f1cf",
   "metadata": {},
   "outputs": [
    {
     "name": "stdout",
     "output_type": "stream",
     "text": [
      "         open       close         low        high   volume       label\n",
      "0  123.430000  125.839996  122.309998  126.250000  2163600  109.059998\n",
      "1  125.239998  119.980003  119.940002  125.540001  2386400  109.730003\n",
      "2  116.379997  114.949997  114.930000  119.739998  2489500  111.879997\n",
      "3  115.480003  116.620003  113.500000  117.440002  2006300  111.320000\n",
      "4  117.010002  114.970001  114.089996  117.330002  1408600  110.419998\n"
     ]
    }
   ],
   "source": [
    "data.dropna(inplace=True)\n",
    "print(data.head())"
   ]
  },
  {
   "cell_type": "code",
   "execution_count": 33,
   "id": "51c78f58",
   "metadata": {},
   "outputs": [
    {
     "name": "stdout",
     "output_type": "stream",
     "text": [
      "         open       close         low        high   volume       label\n",
      "0  123.430000  125.839996  122.309998  126.250000  2163600  109.059998\n",
      "1  125.239998  119.980003  119.940002  125.540001  2386400  109.730003\n",
      "2  116.379997  114.949997  114.930000  119.739998  2489500  111.879997\n",
      "3  115.480003  116.620003  113.500000  117.440002  2006300  111.320000\n",
      "4  117.010002  114.970001  114.089996  117.330002  1408600  110.419998\n",
      "2951\n",
      "521\n"
     ]
    },
    {
     "name": "stderr",
     "output_type": "stream",
     "text": [
      "C:\\Users\\DELL\\AppData\\Local\\Temp\\ipykernel_15600\\1202502431.py:4: FutureWarning: In a future version of pandas all arguments of DataFrame.drop except for the argument 'labels' will be keyword-only.\n",
      "  x =np.array(data.drop(['label'],1))\n"
     ]
    }
   ],
   "source": [
    "forecast =10\n",
    "data['label']=data['open'].shift(-forecast)\n",
    "print(data.head())\n",
    "x =np.array(data.drop(['label'],1))\n",
    "y = np.array(data['label'])\n",
    "x =preprocessing.scale(x)\n",
    "x_train,x_test,y_train,y_test = train_test_split(x,y,test_size=0.15,random_state=4)\n",
    "print(len(x_train))\n",
    "print(len(x_test))"
   ]
  },
  {
   "cell_type": "code",
   "execution_count": null,
   "id": "dadcbfcd",
   "metadata": {},
   "outputs": [],
   "source": []
  }
 ],
 "metadata": {
  "kernelspec": {
   "display_name": "Python 3 (ipykernel)",
   "language": "python",
   "name": "python3"
  },
  "language_info": {
   "codemirror_mode": {
    "name": "ipython",
    "version": 3
   },
   "file_extension": ".py",
   "mimetype": "text/x-python",
   "name": "python",
   "nbconvert_exporter": "python",
   "pygments_lexer": "ipython3",
   "version": "3.9.12"
  }
 },
 "nbformat": 4,
 "nbformat_minor": 5
}
